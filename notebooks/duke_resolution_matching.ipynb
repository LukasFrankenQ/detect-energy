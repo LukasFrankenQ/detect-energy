{
  "nbformat": 4,
  "nbformat_minor": 0,
  "metadata": {
    "colab": {
      "name": "duke_resolution_matching.ipynb",
      "provenance": []
    },
    "kernelspec": {
      "name": "python3",
      "display_name": "Python 3"
    },
    "language_info": {
      "name": "python"
    }
  },
  "cells": [
    {
      "cell_type": "code",
      "execution_count": 1,
      "metadata": {
        "colab": {
          "base_uri": "https://localhost:8080/"
        },
        "id": "hUdmrbidQiFw",
        "outputId": "3ba412de-6a49-4e8f-8884-910ff1a52971"
      },
      "outputs": [
        {
          "output_type": "stream",
          "name": "stdout",
          "text": [
            "Mounted at /content/drive/\n"
          ]
        }
      ],
      "source": [
        "from google.colab import drive\n",
        "drive.mount('/content/drive/')"
      ]
    },
    {
      "cell_type": "code",
      "source": [
        "!pip install geopandas\n",
        "!pip install rasterio\n",
        "!pip install attrdict\n",
        "!pip install utm"
      ],
      "metadata": {
        "colab": {
          "base_uri": "https://localhost:8080/"
        },
        "id": "jLsV7jX2QwDp",
        "outputId": "1de1e121-2fae-4778-ddbc-92de5267fb1f"
      },
      "execution_count": 47,
      "outputs": [
        {
          "output_type": "stream",
          "name": "stdout",
          "text": [
            "Looking in indexes: https://pypi.org/simple, https://us-python.pkg.dev/colab-wheels/public/simple/\n",
            "Requirement already satisfied: geopandas in /usr/local/lib/python3.7/dist-packages (0.10.2)\n",
            "Requirement already satisfied: fiona>=1.8 in /usr/local/lib/python3.7/dist-packages (from geopandas) (1.8.21)\n",
            "Requirement already satisfied: pyproj>=2.2.0 in /usr/local/lib/python3.7/dist-packages (from geopandas) (3.2.1)\n",
            "Requirement already satisfied: shapely>=1.6 in /usr/local/lib/python3.7/dist-packages (from geopandas) (1.8.2)\n",
            "Requirement already satisfied: pandas>=0.25.0 in /usr/local/lib/python3.7/dist-packages (from geopandas) (1.3.5)\n",
            "Requirement already satisfied: cligj>=0.5 in /usr/local/lib/python3.7/dist-packages (from fiona>=1.8->geopandas) (0.7.2)\n",
            "Requirement already satisfied: attrs>=17 in /usr/local/lib/python3.7/dist-packages (from fiona>=1.8->geopandas) (21.4.0)\n",
            "Requirement already satisfied: setuptools in /usr/local/lib/python3.7/dist-packages (from fiona>=1.8->geopandas) (57.4.0)\n",
            "Requirement already satisfied: certifi in /usr/local/lib/python3.7/dist-packages (from fiona>=1.8->geopandas) (2022.5.18.1)\n",
            "Requirement already satisfied: click>=4.0 in /usr/local/lib/python3.7/dist-packages (from fiona>=1.8->geopandas) (7.1.2)\n",
            "Requirement already satisfied: six>=1.7 in /usr/local/lib/python3.7/dist-packages (from fiona>=1.8->geopandas) (1.15.0)\n",
            "Requirement already satisfied: munch in /usr/local/lib/python3.7/dist-packages (from fiona>=1.8->geopandas) (2.5.0)\n",
            "Requirement already satisfied: click-plugins>=1.0 in /usr/local/lib/python3.7/dist-packages (from fiona>=1.8->geopandas) (1.1.1)\n",
            "Requirement already satisfied: numpy>=1.17.3 in /usr/local/lib/python3.7/dist-packages (from pandas>=0.25.0->geopandas) (1.21.6)\n",
            "Requirement already satisfied: python-dateutil>=2.7.3 in /usr/local/lib/python3.7/dist-packages (from pandas>=0.25.0->geopandas) (2.8.2)\n",
            "Requirement already satisfied: pytz>=2017.3 in /usr/local/lib/python3.7/dist-packages (from pandas>=0.25.0->geopandas) (2022.1)\n",
            "Looking in indexes: https://pypi.org/simple, https://us-python.pkg.dev/colab-wheels/public/simple/\n",
            "Requirement already satisfied: rasterio in /usr/local/lib/python3.7/dist-packages (1.2.10)\n",
            "Requirement already satisfied: affine in /usr/local/lib/python3.7/dist-packages (from rasterio) (2.3.1)\n",
            "Requirement already satisfied: click-plugins in /usr/local/lib/python3.7/dist-packages (from rasterio) (1.1.1)\n",
            "Requirement already satisfied: certifi in /usr/local/lib/python3.7/dist-packages (from rasterio) (2022.5.18.1)\n",
            "Requirement already satisfied: attrs in /usr/local/lib/python3.7/dist-packages (from rasterio) (21.4.0)\n",
            "Requirement already satisfied: cligj>=0.5 in /usr/local/lib/python3.7/dist-packages (from rasterio) (0.7.2)\n",
            "Requirement already satisfied: click>=4.0 in /usr/local/lib/python3.7/dist-packages (from rasterio) (7.1.2)\n",
            "Requirement already satisfied: snuggs>=1.4.1 in /usr/local/lib/python3.7/dist-packages (from rasterio) (1.4.7)\n",
            "Requirement already satisfied: setuptools in /usr/local/lib/python3.7/dist-packages (from rasterio) (57.4.0)\n",
            "Requirement already satisfied: numpy in /usr/local/lib/python3.7/dist-packages (from rasterio) (1.21.6)\n",
            "Requirement already satisfied: pyparsing>=2.1.6 in /usr/local/lib/python3.7/dist-packages (from snuggs>=1.4.1->rasterio) (3.0.9)\n",
            "Looking in indexes: https://pypi.org/simple, https://us-python.pkg.dev/colab-wheels/public/simple/\n",
            "Requirement already satisfied: attrdict in /usr/local/lib/python3.7/dist-packages (2.0.1)\n",
            "Requirement already satisfied: six in /usr/local/lib/python3.7/dist-packages (from attrdict) (1.15.0)\n",
            "Looking in indexes: https://pypi.org/simple, https://us-python.pkg.dev/colab-wheels/public/simple/\n",
            "Collecting utm\n",
            "  Downloading utm-0.7.0.tar.gz (8.7 kB)\n",
            "Building wheels for collected packages: utm\n",
            "  Building wheel for utm (setup.py) ... \u001b[?25l\u001b[?25hdone\n",
            "  Created wheel for utm: filename=utm-0.7.0-py3-none-any.whl size=6108 sha256=90d03a024a4a9a5d31cd59f26caafbcdf6d361efe80fe4f32e7a7c767913f378\n",
            "  Stored in directory: /root/.cache/pip/wheels/a5/b0/12/7ee4fdb0f9fbb4157100bd02390436ed5d58ebfd3c6d6a0886\n",
            "Successfully built utm\n",
            "Installing collected packages: utm\n",
            "Successfully installed utm-0.7.0\n"
          ]
        }
      ]
    },
    {
      "cell_type": "code",
      "source": [
        "import numpy as np\n",
        "import gdal\n",
        "import geopandas as gpd\n",
        "import pandas as pd\n",
        "import os\n",
        "from shapely.geometry import Point, Polygon, MultiPolygon\n",
        "from pprint import pprint\n",
        "\n",
        "target_country = 'australia'\n",
        "\n",
        "base_path = '/content/drive/MyDrive/PyPSA_Africa_images/'\n",
        "duke_path = os.path.join(base_path, 'duke')\n",
        "country_path = os.path.join(base_path, target_country)\n",
        "\n",
        "duke_countries = os.listdir(duke_path)\n",
        "print(duke_countries)"
      ],
      "metadata": {
        "colab": {
          "base_uri": "https://localhost:8080/"
        },
        "id": "wrvyzr15Qtez",
        "outputId": "940b071a-d556-4053-a032-20401c5a7b56"
      },
      "execution_count": 1,
      "outputs": [
        {
          "output_type": "stream",
          "name": "stdout",
          "text": [
            "['sudan', 'south_sudan', 'china', 'rotorua', 'brazil', 'arizona', 'hartford', 'mexico', 'kansas', 'clyde', 'wilmington', 'dunedin', 'gisborne', 'palmertson', 'tauranga']\n"
          ]
        }
      ]
    },
    {
      "cell_type": "code",
      "source": [
        "arizona1 = pd.read_csv(os.path.join(duke_path, 'arizona', 'raw', 'USA_AZ_Tucson_1.csv'), index_col=0)"
      ],
      "metadata": {
        "id": "6Z_VfX8vR-Ex"
      },
      "execution_count": 11,
      "outputs": []
    },
    {
      "cell_type": "code",
      "source": [
        "arizona1.head()"
      ],
      "metadata": {
        "colab": {
          "base_uri": "https://localhost:8080/",
          "height": 206
        },
        "id": "hYpFP-M6SOhu",
        "outputId": "d113b058-6b3a-4b7d-a537-5132f645e5a7"
      },
      "execution_count": 12,
      "outputs": [
        {
          "output_type": "execute_result",
          "data": {
            "text/plain": [
              "  Label  Object     Type             X             Y  height  width\n",
              "0    DT       1  Polygon  11427.372913  11150.107695   12100  11846\n",
              "1    DT       1  Polygon  11429.752872  11167.957387   12100  11846\n",
              "2    DT       1  Polygon  11447.602564  11165.577428   12100  11846\n",
              "3    DT       1  Polygon  11445.222605  11150.107695   12100  11846\n",
              "4    DT       2  Polygon  11714.157967  11330.984575   12100  11846"
            ],
            "text/html": [
              "\n",
              "  <div id=\"df-3faa78c7-d974-40c0-9e66-366218fceaae\">\n",
              "    <div class=\"colab-df-container\">\n",
              "      <div>\n",
              "<style scoped>\n",
              "    .dataframe tbody tr th:only-of-type {\n",
              "        vertical-align: middle;\n",
              "    }\n",
              "\n",
              "    .dataframe tbody tr th {\n",
              "        vertical-align: top;\n",
              "    }\n",
              "\n",
              "    .dataframe thead th {\n",
              "        text-align: right;\n",
              "    }\n",
              "</style>\n",
              "<table border=\"1\" class=\"dataframe\">\n",
              "  <thead>\n",
              "    <tr style=\"text-align: right;\">\n",
              "      <th></th>\n",
              "      <th>Label</th>\n",
              "      <th>Object</th>\n",
              "      <th>Type</th>\n",
              "      <th>X</th>\n",
              "      <th>Y</th>\n",
              "      <th>height</th>\n",
              "      <th>width</th>\n",
              "    </tr>\n",
              "  </thead>\n",
              "  <tbody>\n",
              "    <tr>\n",
              "      <th>0</th>\n",
              "      <td>DT</td>\n",
              "      <td>1</td>\n",
              "      <td>Polygon</td>\n",
              "      <td>11427.372913</td>\n",
              "      <td>11150.107695</td>\n",
              "      <td>12100</td>\n",
              "      <td>11846</td>\n",
              "    </tr>\n",
              "    <tr>\n",
              "      <th>1</th>\n",
              "      <td>DT</td>\n",
              "      <td>1</td>\n",
              "      <td>Polygon</td>\n",
              "      <td>11429.752872</td>\n",
              "      <td>11167.957387</td>\n",
              "      <td>12100</td>\n",
              "      <td>11846</td>\n",
              "    </tr>\n",
              "    <tr>\n",
              "      <th>2</th>\n",
              "      <td>DT</td>\n",
              "      <td>1</td>\n",
              "      <td>Polygon</td>\n",
              "      <td>11447.602564</td>\n",
              "      <td>11165.577428</td>\n",
              "      <td>12100</td>\n",
              "      <td>11846</td>\n",
              "    </tr>\n",
              "    <tr>\n",
              "      <th>3</th>\n",
              "      <td>DT</td>\n",
              "      <td>1</td>\n",
              "      <td>Polygon</td>\n",
              "      <td>11445.222605</td>\n",
              "      <td>11150.107695</td>\n",
              "      <td>12100</td>\n",
              "      <td>11846</td>\n",
              "    </tr>\n",
              "    <tr>\n",
              "      <th>4</th>\n",
              "      <td>DT</td>\n",
              "      <td>2</td>\n",
              "      <td>Polygon</td>\n",
              "      <td>11714.157967</td>\n",
              "      <td>11330.984575</td>\n",
              "      <td>12100</td>\n",
              "      <td>11846</td>\n",
              "    </tr>\n",
              "  </tbody>\n",
              "</table>\n",
              "</div>\n",
              "      <button class=\"colab-df-convert\" onclick=\"convertToInteractive('df-3faa78c7-d974-40c0-9e66-366218fceaae')\"\n",
              "              title=\"Convert this dataframe to an interactive table.\"\n",
              "              style=\"display:none;\">\n",
              "        \n",
              "  <svg xmlns=\"http://www.w3.org/2000/svg\" height=\"24px\"viewBox=\"0 0 24 24\"\n",
              "       width=\"24px\">\n",
              "    <path d=\"M0 0h24v24H0V0z\" fill=\"none\"/>\n",
              "    <path d=\"M18.56 5.44l.94 2.06.94-2.06 2.06-.94-2.06-.94-.94-2.06-.94 2.06-2.06.94zm-11 1L8.5 8.5l.94-2.06 2.06-.94-2.06-.94L8.5 2.5l-.94 2.06-2.06.94zm10 10l.94 2.06.94-2.06 2.06-.94-2.06-.94-.94-2.06-.94 2.06-2.06.94z\"/><path d=\"M17.41 7.96l-1.37-1.37c-.4-.4-.92-.59-1.43-.59-.52 0-1.04.2-1.43.59L10.3 9.45l-7.72 7.72c-.78.78-.78 2.05 0 2.83L4 21.41c.39.39.9.59 1.41.59.51 0 1.02-.2 1.41-.59l7.78-7.78 2.81-2.81c.8-.78.8-2.07 0-2.86zM5.41 20L4 18.59l7.72-7.72 1.47 1.35L5.41 20z\"/>\n",
              "  </svg>\n",
              "      </button>\n",
              "      \n",
              "  <style>\n",
              "    .colab-df-container {\n",
              "      display:flex;\n",
              "      flex-wrap:wrap;\n",
              "      gap: 12px;\n",
              "    }\n",
              "\n",
              "    .colab-df-convert {\n",
              "      background-color: #E8F0FE;\n",
              "      border: none;\n",
              "      border-radius: 50%;\n",
              "      cursor: pointer;\n",
              "      display: none;\n",
              "      fill: #1967D2;\n",
              "      height: 32px;\n",
              "      padding: 0 0 0 0;\n",
              "      width: 32px;\n",
              "    }\n",
              "\n",
              "    .colab-df-convert:hover {\n",
              "      background-color: #E2EBFA;\n",
              "      box-shadow: 0px 1px 2px rgba(60, 64, 67, 0.3), 0px 1px 3px 1px rgba(60, 64, 67, 0.15);\n",
              "      fill: #174EA6;\n",
              "    }\n",
              "\n",
              "    [theme=dark] .colab-df-convert {\n",
              "      background-color: #3B4455;\n",
              "      fill: #D2E3FC;\n",
              "    }\n",
              "\n",
              "    [theme=dark] .colab-df-convert:hover {\n",
              "      background-color: #434B5C;\n",
              "      box-shadow: 0px 1px 3px 1px rgba(0, 0, 0, 0.15);\n",
              "      filter: drop-shadow(0px 1px 2px rgba(0, 0, 0, 0.3));\n",
              "      fill: #FFFFFF;\n",
              "    }\n",
              "  </style>\n",
              "\n",
              "      <script>\n",
              "        const buttonEl =\n",
              "          document.querySelector('#df-3faa78c7-d974-40c0-9e66-366218fceaae button.colab-df-convert');\n",
              "        buttonEl.style.display =\n",
              "          google.colab.kernel.accessAllowed ? 'block' : 'none';\n",
              "\n",
              "        async function convertToInteractive(key) {\n",
              "          const element = document.querySelector('#df-3faa78c7-d974-40c0-9e66-366218fceaae');\n",
              "          const dataTable =\n",
              "            await google.colab.kernel.invokeFunction('convertToInteractive',\n",
              "                                                     [key], {});\n",
              "          if (!dataTable) return;\n",
              "\n",
              "          const docLinkHtml = 'Like what you see? Visit the ' +\n",
              "            '<a target=\"_blank\" href=https://colab.research.google.com/notebooks/data_table.ipynb>data table notebook</a>'\n",
              "            + ' to learn more about interactive tables.';\n",
              "          element.innerHTML = '';\n",
              "          dataTable['output_type'] = 'display_data';\n",
              "          await google.colab.output.renderOutput(dataTable, element);\n",
              "          const docLink = document.createElement('div');\n",
              "          docLink.innerHTML = docLinkHtml;\n",
              "          element.appendChild(docLink);\n",
              "        }\n",
              "      </script>\n",
              "    </div>\n",
              "  </div>\n",
              "  "
            ]
          },
          "metadata": {},
          "execution_count": 12
        }
      ]
    },
    {
      "cell_type": "code",
      "source": [
        "pprint(gdal.Info(os.path.join(duke_path, 'sudan', 'raw', 'Sudan_Khartoum_1.tif'), format='JSON'))\n",
        "print('----')\n",
        "pprint(gdal.Info(os.path.join(duke_path, 'arizona', 'raw', 'USA_AZ_Tucson_1.tif'), format='JSON'))\n",
        "\n",
        "# print(gdal.Open(os.path.join(duke_path, 'sudan', 'raw', 'Sudan_Khartoum_1.tif')).GetGeoTransform())\n",
        "# print(gdal.Open(os.path.join(duke_path, 'sudan', 'lab', 'Sudan_Khartoum_1_4326.tif')).GetGeoTransform())"
      ],
      "metadata": {
        "colab": {
          "base_uri": "https://localhost:8080/"
        },
        "id": "7IIyGEWMSc3M",
        "outputId": "c748b32a-9adf-4897-dce7-aa40680d3489"
      },
      "execution_count": 27,
      "outputs": [
        {
          "output_type": "stream",
          "name": "stdout",
          "text": [
            "('Driver: GTiff/GeoTIFF\\n'\n",
            " 'Files: '\n",
            " '/content/drive/MyDrive/PyPSA_Africa_images/duke/sudan/raw/Sudan_Khartoum_1.tif\\n'\n",
            " 'Size is 1300, 1300\\n'\n",
            " 'Coordinate System is:\\n'\n",
            " 'GEOGCS[\"WGS 84\",\\n'\n",
            " '    DATUM[\"WGS_1984\",\\n'\n",
            " '        SPHEROID[\"WGS 84\",6378137,298.257223563,\\n'\n",
            " '            AUTHORITY[\"EPSG\",\"7030\"]],\\n'\n",
            " '        AUTHORITY[\"EPSG\",\"6326\"]],\\n'\n",
            " '    PRIMEM[\"Greenwich\",0],\\n'\n",
            " '    UNIT[\"degree\",0.0174532925199433],\\n'\n",
            " '    AUTHORITY[\"EPSG\",\"4326\"]]\\n'\n",
            " 'Origin = (32.489348400012481,15.520831199937557)\\n'\n",
            " 'Pixel Size = (0.000002700000000,-0.000002700000000)\\n'\n",
            " 'Metadata:\\n'\n",
            " '  AREA_OR_POINT=Area\\n'\n",
            " 'Image Structure Metadata:\\n'\n",
            " '  INTERLEAVE=PIXEL\\n'\n",
            " 'Corner Coordinates:\\n'\n",
            " 'Upper Left  (  32.4893484,  15.5208312) ( 32d29\\'21.65\"E, 15d31\\'14.99\"N)\\n'\n",
            " 'Lower Left  (  32.4893484,  15.5173212) ( 32d29\\'21.65\"E, 15d31\\' 2.36\"N)\\n'\n",
            " 'Upper Right (  32.4928584,  15.5208312) ( 32d29\\'34.29\"E, 15d31\\'14.99\"N)\\n'\n",
            " 'Lower Right (  32.4928584,  15.5173212) ( 32d29\\'34.29\"E, 15d31\\' 2.36\"N)\\n'\n",
            " 'Center      (  32.4911034,  15.5190762) ( 32d29\\'27.97\"E, 15d31\\' 8.67\"N)\\n'\n",
            " 'Band 1 Block=1300x2 Type=Byte, ColorInterp=Red\\n'\n",
            " 'Band 2 Block=1300x2 Type=Byte, ColorInterp=Green\\n'\n",
            " 'Band 3 Block=1300x2 Type=Byte, ColorInterp=Blue\\n')\n",
            "----\n",
            "('Driver: GTiff/GeoTIFF\\n'\n",
            " 'Files: '\n",
            " '/content/drive/MyDrive/PyPSA_Africa_images/duke/arizona/raw/USA_AZ_Tucson_1.tif\\n'\n",
            " 'Size is 11846, 12100\\n'\n",
            " 'Coordinate System is:\\n'\n",
            " 'PROJCS[\"NAD_1983_2011_StatePlane_Arizona_Central_FIPS_0202_Ft_Intl\",\\n'\n",
            " '    GEOGCS[\"GCS_NAD_1983_2011\",\\n'\n",
            " '        DATUM[\"NAD_1983_2011\",\\n'\n",
            " '            SPHEROID[\"GRS_1980\",6378137,298.257222101]],\\n'\n",
            " '        PRIMEM[\"Greenwich\",0],\\n'\n",
            " '        UNIT[\"degree\",0.0174532925199433]],\\n'\n",
            " '    PROJECTION[\"Transverse_Mercator\"],\\n'\n",
            " '    PARAMETER[\"latitude_of_origin\",31],\\n'\n",
            " '    PARAMETER[\"central_meridian\",-111.9166666666667],\\n'\n",
            " '    PARAMETER[\"scale_factor\",0.9999],\\n'\n",
            " '    PARAMETER[\"false_easting\",700000],\\n'\n",
            " '    PARAMETER[\"false_northing\",0],\\n'\n",
            " '    UNIT[\"foot\",0.3048,\\n'\n",
            " '        AUTHORITY[\"EPSG\",\"9002\"]]]\\n'\n",
            " 'Origin = (979982.999999999883585,371061.999999999941792)\\n'\n",
            " 'Pixel Size = (0.500000000000000,-0.500000000000000)\\n'\n",
            " 'Metadata:\\n'\n",
            " '  AREA_OR_POINT=Area\\n'\n",
            " '  TIFFTAG_MAXSAMPLEVALUE=255\\n'\n",
            " '  TIFFTAG_MINSAMPLEVALUE=22\\n'\n",
            " '  TIFFTAG_RESOLUTIONUNIT=1 (unitless)\\n'\n",
            " '  TIFFTAG_XRESOLUTION=0\\n'\n",
            " '  TIFFTAG_YRESOLUTION=0\\n'\n",
            " 'Image Structure Metadata:\\n'\n",
            " '  INTERLEAVE=PIXEL\\n'\n",
            " 'Corner Coordinates:\\n'\n",
            " 'Upper Left  (  979983.000,  371062.000) (111d 0\\'47.90\"W, 32d 1\\' 0.91\"N)\\n'\n",
            " 'Lower Left  (  979983.000,  365012.000) (111d 0\\'48.49\"W, 32d 0\\' 1.04\"N)\\n'\n",
            " 'Upper Right (  985906.000,  371062.000) (110d59\\'39.11\"W, 32d 1\\' 0.42\"N)\\n'\n",
            " 'Lower Right (  985906.000,  365012.000) (110d59\\'39.71\"W, 32d 0\\' 0.55\"N)\\n'\n",
            " 'Center      (  982944.500,  368037.000) (111d 0\\'13.80\"W, 32d 0\\'30.73\"N)\\n'\n",
            " 'Band 1 Block=11846x1 Type=Byte, ColorInterp=Red\\n'\n",
            " 'Band 2 Block=11846x1 Type=Byte, ColorInterp=Green\\n'\n",
            " 'Band 3 Block=11846x1 Type=Byte, ColorInterp=Blue\\n')\n"
          ]
        }
      ]
    },
    {
      "cell_type": "code",
      "source": [
        "inpath = os.path.join(duke_path, 'sudan', 'raw', 'Sudan_Khartoum_1.tif')\n",
        "outpath = os.path.join(duke_path, 'sudan', 'lab', 'Sudan_Khartoum_1_4326.tif')\n",
        "\n",
        "warp = gdal.Warp(outpath, inpath, dstSRS='EPSG:4326')\n",
        "warp = None "
      ],
      "metadata": {
        "id": "5E2aOJbxTCqy"
      },
      "execution_count": 21,
      "outputs": []
    },
    {
      "cell_type": "code",
      "source": [
        "from osgeo import gdal\n",
        "from attrdict import AttrDict\n",
        "import utm\n",
        "from pyproj import CRS\n",
        "import os\n",
        "\n",
        "def get_pixel_size(filename):\n",
        "    '''\n",
        "    obtains the pixel size in meters of any raster file\n",
        "    '''\n",
        "\n",
        "    holdfile = filename.split('/')[-1]\n",
        "\n",
        "    info = gdal.Info(filename, format='json')\n",
        "    epsg = int(info['coordinateSystem']['wkt'].rsplit('\"EPSG\",\"', 1)[-1].split('\"')[0])\n",
        "\n",
        "    if epsg != 4326:\n",
        "        dummyfile = os.path.join(duke_path, 'sudan', 'lab', 'epsgdummy.tif')\n",
        "        warp = gdal.Warp(dummyfile, filename, dstSRS='EPSG:4326')\n",
        "        warp = None \n",
        "        filename = dummyfile\n",
        "        info = gdal.Info(filename, format='json')\n",
        "\n",
        "    # print(f'initial epsg: {epsg}')\n",
        "\n",
        "    info = AttrDict(info)\n",
        "\n",
        "    center = info.cornerCoordinates.center\n",
        "    if center[1] > 0:\n",
        "        south = True\n",
        "    else:\n",
        "        south = False\n",
        "    \n",
        "    # print('obtained center coords')\n",
        "    # print(center)\n",
        "\n",
        "    as_utm = utm.from_latlon(center[1], center[0])\n",
        "    # print(f'is in utm zone: {as_utm}')\n",
        "    \n",
        "    crs = CRS.from_dict({'proj': 'utm', 'zone': as_utm[2], 'south': south})\n",
        "    # print(f'resulting in epsg {crs.to_authority()}')\n",
        "\n",
        "    epsg = crs.to_authority()\n",
        "\n",
        "    utmpath = os.path.join(duke_path, 'sudan', 'lab', 'dummy.tif')\n",
        "\n",
        "    warp = gdal.Warp(utmpath, filename, dstSRS=epsg[0]+':'+epsg[1])\n",
        "    warp = None \n",
        "\n",
        "    info = AttrDict(gdal.Info(utmpath, format='json'))\n",
        "    pixel_size = info.geoTransform[1]\n",
        "    print(f'Pixel size of {holdfile}: {pixel_size} m')\n",
        "\n",
        "\n",
        "\n",
        "# filename = os.path.join(duke_path, 'arizona', 'raw', 'USA_AZ_Tucson_1.tif')\n",
        "australia_imgs = os.path.join(base_path, 'maxar', 'texas', 'raw')\n",
        "\n",
        "for file in os.listdir(australia_imgs)[:10]:\n",
        "    file = os.path.join(australia_imgs, file)\n",
        "    get_pixel_size(file)\n"
      ],
      "metadata": {
        "colab": {
          "base_uri": "https://localhost:8080/"
        },
        "id": "bzlNRp7CTU0f",
        "outputId": "5e5a39ba-5c3a-4eb8-ac18-43fa8f65883e"
      },
      "execution_count": null,
      "outputs": [
        {
          "output_type": "stream",
          "name": "stdout",
          "text": [
            "Pixel size of 105001002A9CF000-visual.tif: 0.3046461274153037 m\n",
            "Pixel size of 105001002A9CF000-visual (1).tif: 0.3046694633557989 m\n",
            "Pixel size of 105001002A9CF000-visual (2).tif: 0.3046878849223795 m\n"
          ]
        }
      ]
    },
    {
      "cell_type": "code",
      "source": [
        ""
      ],
      "metadata": {
        "id": "ZcmJAUKJ2M3b"
      },
      "execution_count": null,
      "outputs": []
    }
  ]
}