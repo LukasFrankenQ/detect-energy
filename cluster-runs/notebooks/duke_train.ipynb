{
 "cells": [
  {
   "cell_type": "markdown",
   "metadata": {},
   "source": [
    "#### Imports"
   ]
  },
  {
   "cell_type": "code",
   "execution_count": null,
   "metadata": {},
   "outputs": [],
   "source": [
    "# torch\n",
    "import torch\n",
    "import torchvision\n",
    "\n",
    "# Detectron2 logger\n",
    "import detectron2\n",
    "from detectron2.utils.logger import setup_logger\n",
    "setup_logger()\n",
    "\n",
    "# Common Libraries\n",
    "import numpy as np\n",
    "import os, json, cv2, random\n",
    "import matplotlib.pyplot as plt\n",
    "# from google.colab.patches import cv2_imshow\n",
    "\n",
    "# Detectron2 utilities\n",
    "from detectron2 import model_zoo\n",
    "from detectron2.engine import DefaultPredictor\n",
    "from detectron2.config import get_cfg\n",
    "from detectron2.utils.visualizer import Visualizer\n",
    "from detectron2.data import MetadataCatalog, DatasetCatalog\n",
    "from detectron2.data.datasets import register_coco_instances"
   ]
  },
  {
   "cell_type": "markdown",
   "metadata": {},
   "source": [
    "#### Register and check datasets"
   ]
  },
  {
   "cell_type": "code",
   "execution_count": null,
   "metadata": {},
   "outputs": [],
   "source": [
    "os.chdir(os.path.join(os.getcwd(), '..', 'datasets'))"
   ]
  },
  {
   "cell_type": "code",
   "execution_count": null,
   "metadata": {},
   "outputs": [],
   "source": [
    "from itertools import product\n",
    "\n",
    "for d, ds in product([\"train\", \"val\"], ['duke']):\n",
    "    ds_path = os.path.join(os.getcwd(), f'{ds}_{d}', 'data')\n",
    "    json_path = os.path.join(os.getcwd(), f'{ds}_{d}', 'labels.json')\n",
    "    ds_name = f'{ds}_{d}'\n",
    "\n",
    "    if ds == 'overfit':\n",
    "        continue\n",
    "\n",
    "    if ds_name in DatasetCatalog.list():\n",
    "        DatasetCatalog.remove(ds_name)\n",
    "        MetadataCatalog.remove(ds_name)\n",
    "\n",
    "    register_coco_instances(ds_name, {}, json_path, ds_path)"
   ]
  },
  {
   "cell_type": "code",
   "execution_count": null,
   "metadata": {},
   "outputs": [],
   "source": [
    "train_dataset = 'duke_train'\n",
    "val_dataset = 'duke_val'\n",
    "train_metadata = MetadataCatalog.get(train_dataset)\n",
    "val_metadata = MetadataCatalog.get(val_dataset)"
   ]
  },
  {
   "cell_type": "code",
   "execution_count": null,
   "metadata": {},
   "outputs": [],
   "source": [
    "%matplotlib inline\n",
    "dataset_dicts = DatasetCatalog.get(train_dataset)\n",
    "tower_metadata = MetadataCatalog.get(train_dataset)\n",
    "\n",
    "num_examples = 5\n",
    "for d in random.sample(dataset_dicts, num_examples):\n",
    "    img = cv2.imread(d[\"file_name\"])\n",
    "    visualizer = Visualizer(img[:, :, ::-1], metadata=tower_metadata, scale=0.8, instance_mode=1)\n",
    "    out = visualizer.draw_dataset_dict(d)\n",
    "    # cv2.imshow(out.get_image()[:, :, ::-1])\n",
    "    plt.imshow(out.get_image()[:, :, ::])"
   ]
  },
  {
   "cell_type": "markdown",
   "metadata": {},
   "source": [
    "#### Setup training config"
   ]
  },
  {
   "cell_type": "code",
   "execution_count": null,
   "metadata": {},
   "outputs": [],
   "source": [
    "!nvidia-smi"
   ]
  },
  {
   "cell_type": "code",
   "execution_count": null,
   "metadata": {},
   "outputs": [],
   "source": [
    "from detectron2.engine import DefaultTrainer\n",
    "from datetime import date\n",
    "\n",
    "cfg = get_cfg() # Model Config\n",
    "\n",
    "frcnn= 'faster_rcnn_R_101_FPN_3x.yaml'\n",
    "current = frcnn\n",
    "\n",
    "# From Detectron2 Model Zoo\n",
    "cfg.merge_from_file(model_zoo.get_config_file(\"COCO-Detection/\"+current))    # https://github.com/facebookresearch/detectron2/blob/main/configs/COCO-Detection/retinanet_R_101_FPN_3x.yaml\n",
    "cfg.MODEL.WEIGHTS = model_zoo.get_checkpoint_url(\"COCO-Detection/\"+current)  # Pre-trained Model Weights\n",
    "\n",
    "# Set Dataset\n",
    "cfg.DATASETS.TRAIN = (train_dataset,)  # Training Dataset\n",
    "cfg.DATASETS.TEST = (val_dataset,)   # Validation Dataset\n",
    "# cfg.DATASETS.TEST = ()\n",
    "\n",
    "cfg.DATALOADER.NUM_WORKERS = 2  # Number of CPUs to load the data into Detectron2 - 2 for Colab\n",
    "cfg.SOLVER.IMS_PER_BATCH = 2    # Detectron2 default 16 with 8 GPUs, so 16/8 = 2 for 1 GPU\n",
    "\n",
    "# Learning Rate\n",
    "# default retinanet BASE_LR = 0.01 on 8 GPUs\n",
    "# using linear learning rate rule, on 1 GPU 0.01/8 = 0.00125\n",
    "# to prevent other layers from modifying too much, divide by 10: 0.00125/10 = 0.000125\n",
    "cfg.SOLVER.BASE_LR = 0.000125\n",
    "cfg.SOLVER.MAX_ITER = 1_100_000\n",
    "cfg.SOLVER.STEPS = []   # does not decay learning rate\n",
    "\n",
    "# ROI = region of interest\n",
    "# is used to sample a subset of proposals coming out of RPN (Region Proposal Network)\n",
    "# to calculate cls and reg loss during training. \n",
    "# calculating loss on all RPN proposals isn't computationally efficient\n",
    "#-------\n",
    "# RoI minibatch size *per image* (number of regions of interest [ROIs]) during training\n",
    "# Total number of RoIs per training minibatch = ROI_HEADS.BATCH_SIZE_PER_IMAGE * SOLVER.IMS_PER_BATCH\n",
    "cfg.MODEL.ROI_HEADS.BATCH_SIZE_PER_IMAGE = 512   # (default: 512)\n",
    "\n",
    "# Config for New Datasets (see https://detectron2.readthedocs.io/tutorials/datasets.html#update-the-config-for-new-datasets)\n",
    "cfg.MODEL.ROI_HEADS.NUM_CLASSES = 2   # for R-CNN Models\n",
    "# cfg.MODEL.RETINANET.NUM_CLASSES = 2   # for RetinaNet \n",
    "\n",
    "model_name = 'PISA_'+str(date.today())+'_frcnn_'+str(cfg.SOLVER.MAX_ITER)+'_iters_duke'\n",
    "# model_path = '/content/drive/MyDrive/PyPSA_Africa_images/models/'+model_name\n",
    "# cfg.MODEL.WEIGHTS = model_path\n",
    "\n",
    "cfg.OUTPUT_DIR = os.path.join(os.getcwd(), '..', 'models', model_name)\n",
    "# cfg.OUTPUT_DIR = 'duke_training_' + str(cfg.SOLVER.MAX_ITER) + '_retinanet'\n",
    "os.makedirs(cfg.OUTPUT_DIR, exist_ok=True)\n",
    "trainer = DefaultTrainer(cfg) \n",
    "trainer.resume_or_load(resume=False)"
   ]
  },
  {
   "cell_type": "code",
   "execution_count": null,
   "metadata": {},
   "outputs": [],
   "source": [
    "trainer.train()"
   ]
  }
 ],
 "metadata": {
  "interpreter": {
   "hash": "f9bef397ef5e7b2d367b3209d88d895d60e5cf9367d4dd0bd56847f579153646"
  },
  "kernelspec": {
   "display_name": "Python 3.8.0 64-bit",
   "language": "python",
   "name": "python3"
  },
  "language_info": {
   "codemirror_mode": {
    "name": "ipython",
    "version": 3
   },
   "file_extension": ".py",
   "mimetype": "text/x-python",
   "name": "python",
   "nbconvert_exporter": "python",
   "pygments_lexer": "ipython3",
   "version": "3.7.12"
  },
  "orig_nbformat": 4
 },
 "nbformat": 4,
 "nbformat_minor": 2
}
