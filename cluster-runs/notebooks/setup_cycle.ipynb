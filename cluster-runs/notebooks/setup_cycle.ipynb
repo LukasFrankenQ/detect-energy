{
 "cells": [
  {
   "cell_type": "code",
   "execution_count": 1,
   "metadata": {},
   "outputs": [],
   "source": [
    "import os\n",
    "\n",
    "os.mkdir('cycle')\n",
    "os.chdir('./cycle/')"
   ]
  },
  {
   "cell_type": "markdown",
   "metadata": {},
   "source": [
    "#### Setup directory structure for CycleGANs"
   ]
  },
  {
   "cell_type": "code",
   "execution_count": 2,
   "metadata": {},
   "outputs": [
    {
     "name": "stderr",
     "output_type": "stream",
     "text": [
      "Cloning into 'pytorch-CycleGAN-and-pix2pix'...\n"
     ]
    }
   ],
   "source": [
    "!git clone https://github.com/junyanz/pytorch-CycleGAN-and-pix2pix"
   ]
  },
  {
   "cell_type": "code",
   "execution_count": 3,
   "metadata": {},
   "outputs": [],
   "source": [
    "os.chdir('./pytorch-CycleGAN-and-pix2pix')"
   ]
  },
  {
   "cell_type": "markdown",
   "metadata": {},
   "source": [
    "#### Obtain required data from drive"
   ]
  },
  {
   "cell_type": "code",
   "execution_count": 1,
   "metadata": {},
   "outputs": [],
   "source": [
    "from google_drive_downloader import GoogleDriveDownloader as gdd\n",
    "\n",
    "maxar2duke_id = '1IIK2zEEK20iOPYnR_QmVromlhKSMEQVI'\n",
    "duke2australia_id =  '1RlsIoNBAoGVR22wSqQbz8pwK8t2FOsyL'"
   ]
  },
  {
   "cell_type": "code",
   "execution_count": 13,
   "metadata": {},
   "outputs": [
    {
     "name": "stdout",
     "output_type": "stream",
     "text": [
      "Downloading 1IIK2zEEK20iOPYnR_QmVromlhKSMEQVI into c:\\Users\\s2216495\\Desktop\\pypsa africa\\detect_energy\\cluster-runs\\cycle\\pytorch-CycleGAN-and-pix2pix\\datasets\\hold... Done.\n",
      "Unzipping...Done.\n"
     ]
    }
   ],
   "source": [
    "# dest_path = os.path.join(os.getcwd(), 'datasets', 'hold')\n",
    "# gdd.download_file_from_google_drive(file_id=maxar2duke_id, \n",
    "#                                     dest_path=dest_path, unzip=True)\n",
    "# os.remove(os.path.join(os.getcwd(), 'datasets', 'hold'))\n",
    "\n",
    "dest_path = os.path.join(os.getcwd(), 'datasets', 'hold')\n",
    "gdd.download_file_from_google_drive(file_id=duke2australia_id, \n",
    "                                    dest_path=dest_path, unzip=True)\n",
    "os.remove(os.path.join(os.getcwd(), 'datasets', 'hold'))"
   ]
  }
 ],
 "metadata": {
  "interpreter": {
   "hash": "f9bef397ef5e7b2d367b3209d88d895d60e5cf9367d4dd0bd56847f579153646"
  },
  "kernelspec": {
   "display_name": "Python 3.8.0 64-bit",
   "language": "python",
   "name": "python3"
  },
  "language_info": {
   "codemirror_mode": {
    "name": "ipython",
    "version": 3
   },
   "file_extension": ".py",
   "mimetype": "text/x-python",
   "name": "python",
   "nbconvert_exporter": "python",
   "pygments_lexer": "ipython3",
   "version": "3.8.0"
  },
  "orig_nbformat": 4
 },
 "nbformat": 4,
 "nbformat_minor": 2
}
